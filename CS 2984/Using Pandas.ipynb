{
 "cells": [
  {
   "cell_type": "code",
   "execution_count": 43,
   "outputs": [],
   "source": [
    "import pandas as pd\n",
    "\n",
    "# int64s\n",
    "s_int = pd.Series([1, 2, 3, 4, 5], index = ['a', 'b', 'c', 'd', 'e'])\n",
    "# print(s_int)\n",
    "\n",
    "# objects\n",
    "s_obj = pd.Series([1, 2, 'k', 4, 5], index = ['a', 'b', 'c', 'd', 'e'])\n",
    "# print(s_obj)\n",
    "\n",
    "# get dtype directly\n",
    "# print(\"s_obj type:\", s_obj.dtype)\n",
    "# print(\"s_int type:\", s_int.dtype)\n",
    "\n",
    "# convert dictionary into Series\n",
    "data = {\n",
    "    'b' : 1,\n",
    "    'a' : 0,\n",
    "    'c' : 2\n",
    "}\n",
    "dataDF = pd.Series(data)\n",
    "# print(dataDF)\n",
    "\n",
    "dataDF = pd.Series(data, index = ['a', 'b', 'c', 'd'])\n",
    "# print(dataDF)\n",
    "\n",
    "# convert scalar into Series\n",
    "scalarDF = pd.Series(42, index = ['a', 'b', 'c', 'd', 'e'])\n",
    "# print(scalarDF)"
   ],
   "metadata": {
    "collapsed": false,
    "pycharm": {
     "name": "#%%\n",
     "is_executing": false
    }
   }
  },
  {
   "cell_type": "code",
   "execution_count": 44,
   "outputs": [
    {
     "name": "stdout",
     "text": [
      "1\n",
      "5\n",
      "True\n",
      "False\n",
      "None\n",
      "2\n"
     ],
     "output_type": "stream"
    }
   ],
   "source": [
    "# Slicing by Indices\n",
    "# print(s_int[0]) # first column\n",
    "# print(s_int[-1]) # last column\n",
    "# print(s_int[:3])\n",
    "# print(s_int[[4, 3, 1]])\n",
    "# print(s_int[s_int > s_int.median()])\n",
    "\n",
    "\n",
    "# Slicing by Labels\n",
    "print(s_int['a'])\n",
    "print(s_int['e'])\n",
    "print('e' in s_int)\n",
    "print('f' in s_int)\n",
    "# print(s_int['f']) # KeyError\n",
    "print(s_int.get('f'))\n",
    "print(s_int.get('b'))"
   ],
   "metadata": {
    "collapsed": false,
    "pycharm": {
     "name": "#%%\n",
     "is_executing": false
    }
   }
  },
  {
   "cell_type": "code",
   "execution_count": 50,
   "outputs": [
    {
     "name": "stdout",
     "text": [
      "a    NaN\n",
      "b    4.0\n",
      "c    6.0\n",
      "d    8.0\n",
      "e    NaN\n",
      "dtype: float64\n",
      "b    1\n",
      "a    0\n",
      "c    2\n",
      "Name: My Awesome Data, dtype: int64\n",
      "My Awesome Data\n"
     ],
     "output_type": "stream"
    }
   ],
   "source": [
    "# Vectorized Operations\n",
    "# print(s_int + s_int)\n",
    "# print(2 * s_int)\n",
    "\n",
    "first = s_int[1:]\n",
    "second = s_int[:-1]\n",
    "print(first + second)\n",
    "\n",
    "# Name your dataset\n",
    "named_series = pd.Series(data, name = \"My Awesome Data\")\n",
    "print(named_series)\n",
    "print(named_series.name)"
   ],
   "metadata": {
    "collapsed": false,
    "pycharm": {
     "name": "#%%\n",
     "is_executing": false
    }
   }
  },
  {
   "cell_type": "code",
   "execution_count": 56,
   "outputs": [
    {
     "name": "stdout",
     "text": [
      "Index(['a', 'b', 'c', 'd'], dtype='object')\n",
      "Index(['one', 'two'], dtype='object')\n"
     ],
     "output_type": "stream"
    }
   ],
   "source": [
    "# Dataframes \n",
    "\n",
    "one = pd.Series([1, 2, 3], index = ['a', 'b', 'c'])\n",
    "two = pd.Series([1, 2, 3, 4], index = ['a', 'b', 'c', 'd'])\n",
    "\n",
    "d = {\n",
    "    'one' : one,\n",
    "    'two' : two\n",
    "}\n",
    "\n",
    "df = pd.DataFrame(d)\n",
    "# print(df)\n",
    "\n",
    "df_filter_row = pd.DataFrame(d, index = ['d', 'b', 'a'])\n",
    "# print(df_filter_row)\n",
    "\n",
    "df_rows_and_cols = pd.DataFrame(d, index = ['d', 'a'], columns = ['two', 'three'])\n",
    "# print(df_rows_and_cols)\n",
    "\n",
    "print(df.index)\n",
    "print(df.columns)"
   ],
   "metadata": {
    "collapsed": false,
    "pycharm": {
     "name": "#%%\n",
     "is_executing": false
    }
   }
  },
  {
   "cell_type": "code",
   "execution_count": 67,
   "outputs": [
    {
     "name": "stdout",
     "text": [
      "   A  B\n",
      "0  1  4\n",
      "1  2  5\n",
      "2  3  6\n",
      "   0  1  2\n",
      "A  1  2  3\n",
      "B  4  5  6\n"
     ],
     "output_type": "stream"
    }
   ],
   "source": [
    "d = {\n",
    "    'one' : [1, 2, 3, 4],\n",
    "    'two' : [4, 3, 2, 1]\n",
    "}\n",
    "\n",
    "# print(pd.DataFrame(d))\n",
    "\n",
    "d = [\n",
    "    {'a':1, 'b':2},\n",
    "    {'a':5, 'b':10, 'c':20}\n",
    "]\n",
    "\n",
    "# print(pd.DataFrame(d))\n",
    "\n",
    "# multi-indexed frame\n",
    "\n",
    "d = pd.DataFrame({\n",
    "    ('a', 'b') : {('A', 'B') : 1, ('A', 'C') : 2},\n",
    "    ('a', 'a') : {('A', 'C') : 3, ('A', 'B') : 4},\n",
    "    ('a', 'c') : {('A', 'B') : 5, ('A', 'C') : 6},\n",
    "    ('b', 'a') : {('A', 'C') : 7, ('A', 'B') : 8},\n",
    "    ('b', 'b') : {('A', 'D') : 9, ('A', 'B') : 10}\n",
    "})\n",
    "# print(d)\n",
    "\n",
    "df = pd.DataFrame.from_dict(dict([('A', [1, 2, 3]), ['B', [4, 5, 6]]]))\n",
    "print(df)\n",
    "\n",
    "df_transposed = pd.DataFrame.from_dict(dict([('A', [1, 2, 3]), ('B', [4, 5, 6])]), orient = 'index')\n",
    "print(df_transposed)"
   ],
   "metadata": {
    "collapsed": false,
    "pycharm": {
     "name": "#%%\n",
     "is_executing": false
    }
   }
  },
  {
   "cell_type": "code",
   "execution_count": 80,
   "outputs": [
    {
     "name": "stdout",
     "text": [
      "   one  two  three\n",
      "A    1    2      3\n",
      "B    4    5      6\n",
      "\n",
      "   one  midcolumn   flag\n",
      "A    1          4  False\n",
      "B    4          7   True\n"
     ],
     "output_type": "stream"
    }
   ],
   "source": [
    "df = pd.DataFrame.from_dict(dict([('A', [1, 2, 3]), ('B', [4, 5, 6])]), orient = 'index', columns = ['one', 'two', 'three'])\n",
    "print(df)\n",
    "print()\n",
    "\n",
    "# print(df['one'])\n",
    "df['three'] = df['one'] + df['two']\n",
    "# print(df)\n",
    "\n",
    "df['flag'] = df['one'] > 2\n",
    "# print(df)\n",
    "\n",
    "del df['two']\n",
    "df.pop('three')\n",
    "# print(df)\n",
    "\n",
    "df.insert(1, 'midcolumn', df['one'] + 3)\n",
    "print(df)"
   ],
   "metadata": {
    "collapsed": false,
    "pycharm": {
     "name": "#%%\n",
     "is_executing": false
    }
   }
  },
  {
   "cell_type": "code",
   "execution_count": 86,
   "outputs": [
    {
     "name": "stdout",
     "text": [
      "   one  midcolumn   flag\n",
      "A    1          4  False\n",
      "               A     B\n",
      "one            1     4\n",
      "midcolumn      4     7\n",
      "flag       False  True\n"
     ],
     "output_type": "stream"
    }
   ],
   "source": [
    "# print(df.loc['B'])\n",
    "print(df.iloc[0:1])\n",
    "\n",
    "print(df.T)"
   ],
   "metadata": {
    "collapsed": false,
    "pycharm": {
     "name": "#%%\n",
     "is_executing": false
    }
   }
  },
  {
   "cell_type": "code",
   "execution_count": 117,
   "outputs": [
    {
     "name": "stdout",
     "text": [
      "(85, 10)\n",
      "(119, 10)\n"
     ],
     "output_type": "stream"
    },
    {
     "data": {
      "text/plain": "<matplotlib.axes._subplots.AxesSubplot at 0x1fd085f6a08>"
     },
     "metadata": {},
     "output_type": "execute_result",
     "execution_count": 117
    },
    {
     "data": {
      "text/plain": "<Figure size 432x288 with 1 Axes>",
      "image/png": "[encoded data removed]"
     },
     "metadata": {
      "needs_background": "light"
     },
     "output_type": "display_data"
    }
   ],
   "source": [
    "reviews = pd.read_csv('ign.csv')\n",
    "\n",
    "reviews = reviews.iloc[:,1:]\n",
    "\n",
    "reviews.head()\n",
    "reviews.tail()\n",
    "# print(reviews.shape)\n",
    "\n",
    "# print(\"Average of 'Score' Column:\", reviews['score'].mean())\n",
    "# print(reviews.mean())\n",
    "# print('\\n')\n",
    "# print(reviews.min())\n",
    "# print('\\n')\n",
    "# print(reviews.max())\n",
    "# print('\\n')\n",
    "# print(reviews.median())\n",
    "# print(reviews.corr())\n",
    "\n",
    "score_filter = reviews['score'] > 7\n",
    "filtered_reviews = reviews[score_filter]\n",
    "# print(filtered_reviews.shape)\n",
    "\n",
    "good_xb1_filter = (reviews['score'] > 8) & (reviews['platform'] == 'Xbox One')\n",
    "filtered_reviews = reviews[good_xb1_filter]\n",
    "print(filtered_reviews.shape)\n",
    "\n",
    "good_ps4_filter = (reviews['score'] > 8) & (reviews['platform'] == 'PlayStation 4')\n",
    "filtered_reviews = reviews[good_ps4_filter]\n",
    "print(filtered_reviews.shape)\n",
    "\n",
    "reviews[reviews['platform'] == \"Xbox One\"][\"score\"].plot(kind=\"hist\", color=\"green\")"
   ],
   "metadata": {
    "collapsed": false,
    "pycharm": {
     "name": "#%%\n",
     "is_executing": false
    }
   }
  },
  {
   "cell_type": "code",
   "execution_count": 116,
   "outputs": [
    {
     "data": {
      "text/plain": "<matplotlib.axes._subplots.AxesSubplot at 0x1fd08a60748>"
     },
     "metadata": {},
     "output_type": "execute_result",
     "execution_count": 116
    },
    {
     "data": {
      "text/plain": "<Figure size 432x288 with 1 Axes>",
      "image/png": "[encoded data removed]"
     },
     "metadata": {
      "needs_background": "light"
     },
     "output_type": "display_data"
    }
   ],
   "source": [
    "reviews[reviews['platform'] == \"PlayStation 4\"][\"score\"].plot(kind=\"hist\", color=\"blue\")"
   ],
   "metadata": {
    "collapsed": false,
    "pycharm": {
     "name": "#%%\n",
     "is_executing": false
    }
   }
  }
 ],
 "metadata": {
  "kernelspec": {
   "display_name": "Python 3",
   "language": "python",
   "name": "python3"
  },
  "language_info": {
   "codemirror_mode": {
    "name": "ipython",
    "version": 2
   },
   "file_extension": ".py",
   "mimetype": "text/x-python",
   "name": "python",
   "nbconvert_exporter": "python",
   "pygments_lexer": "ipython2",
   "version": "2.7.6"
  },
  "pycharm": {
   "stem_cell": {
    "cell_type": "raw",
    "source": [],
    "metadata": {
     "collapsed": false
    }
   }
  }
 },
 "nbformat": 4,
 "nbformat_minor": 0
}