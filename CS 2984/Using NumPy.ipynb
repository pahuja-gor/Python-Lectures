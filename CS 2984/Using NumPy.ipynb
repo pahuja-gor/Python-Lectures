{
 "cells": [
  {
   "cell_type": "code",
   "execution_count": 14,
   "metadata": {
    "collapsed": true,
    "pycharm": {
     "is_executing": false
    }
   },
   "outputs": [
    {
     "name": "stdout",
     "text": [
      "[1 2 3 4]\n",
      "[5 2 3 4]\n",
      "(4,)\n",
      "int32\n",
      "[0 1 2 3 4 5 6 7 8 9]\n",
      "[0.         0.66666667 1.33333333 2.        ]\n"
     ],
     "output_type": "stream"
    }
   ],
   "source": [
    "import numpy as np\n",
    "\n",
    "myList = [1, 2, 3, 4]\n",
    "a = np.array(myList)\n",
    "print(a)\n",
    "\n",
    "a[0] = 5\n",
    "print(a)\n",
    "\n",
    "# features of an array\n",
    "print(a.shape)\n",
    "print(a.dtype)\n",
    "\n",
    "x = np.arange(10)\n",
    "print(x)\n",
    "\n",
    "b = np.linspace(0, 2, 4)\n",
    "print(b)"
   ]
  },
  {
   "cell_type": "code",
   "execution_count": 28,
   "outputs": [
    {
     "name": "stdout",
     "text": [
      "[-3.14159265 -1.80067334 -0.7605215  -0.18117215 -0.00704571  0.00704571\n",
      "  0.18117215  0.7605215   1.80067334  3.14159265]\n",
      "[-3.14159265 -1.80067334 -0.7605215  -0.18117215 -0.00704571  0.00704571\n",
      "  0.18117215  0.7605215   1.80067334  3.14159265]\n",
      "[9.8696044  5.97050143 3.0461742  1.09662271 0.12184697 0.12184697\n",
      " 1.09662271 3.0461742  5.97050143 9.8696044 ]\n",
      "[9.8696044  5.97050143 3.0461742  1.09662271 0.12184697 0.12184697\n",
      " 1.09662271 3.0461742  5.97050143 9.8696044 ]\n"
     ],
     "output_type": "stream"
    },
    {
     "data": {
      "text/plain": "<Figure size 432x288 with 1 Axes>",
      "image/png": "[encoded data removed]"
     },
     "metadata": {
      "needs_background": "light"
     },
     "output_type": "display_data"
    }
   ],
   "source": [
    "#math computations\n",
    "import matplotlib.pyplot as plt\n",
    "\n",
    "c = a - b\n",
    "print(c)\n",
    "c = np.subtract(a, b)\n",
    "print(c)\n",
    "d = a * a\n",
    "print(d)\n",
    "d = a ** 2\n",
    "print(d)\n",
    "\n",
    "a = np.linspace(-np.pi, np.pi, 100)\n",
    "b = np.sin(a)\n",
    "c = np.cos(a)\n",
    "\n",
    "plt.plot(b)\n",
    "plt.plot(c)\n",
    "plt.show()"
   ],
   "metadata": {
    "collapsed": false,
    "pycharm": {
     "name": "#%%\n",
     "is_executing": false
    }
   }
  },
  {
   "cell_type": "code",
   "execution_count": 43,
   "outputs": [
    {
     "name": "stdout",
     "text": [
      "[[1.  2.  3. ]\n",
      " [3.  4.  6.7]\n",
      " [5.  9.  5. ]]\n",
      "\n",
      "[[False False False]\n",
      " [False  True  True]\n",
      " [ True  True  True]]\n",
      "float64\n",
      "38.7\n",
      "[ 9.  15.  14.7]\n",
      "[ 6.  13.7 19. ]\n"
     ],
     "output_type": "stream"
    }
   ],
   "source": [
    "a = np.array([[1, 2, 3],\n",
    "              [3, 4, 6.7],\n",
    "              [5, 9, 5]])\n",
    "print(a)\n",
    "print('')\n",
    "# print(a.T)\n",
    "\n",
    "# slicing\n",
    "d = a[:2,1:]\n",
    "# print(d)\n",
    "\n",
    "bool_index = (a >= 4)\n",
    "print(bool_index)\n",
    "print(a.dtype)\n",
    "\n",
    "# summing\n",
    "print(np.sum(a))\n",
    "print(np.sum(a, axis = 0))\n",
    "print(np.sum(a, axis = 1))"
   ],
   "metadata": {
    "collapsed": false,
    "pycharm": {
     "name": "#%%\n",
     "is_executing": false
    }
   }
  },
  {
   "cell_type": "code",
   "execution_count": 48,
   "outputs": [
    {
     "name": "stdout",
     "text": [
      "[[ 2  2  4]\n",
      " [ 5  5  7]\n",
      " [ 8  8 10]\n",
      " [11 11 13]]\n",
      "[[1 0 1]\n",
      " [1 0 1]\n",
      " [1 0 1]\n",
      " [1 0 1]]\n",
      "[[ 2  2  4]\n",
      " [ 5  5  7]\n",
      " [ 8  8 10]\n",
      " [11 11 13]]\n",
      "[[ 2  2  4]\n",
      " [ 5  5  7]\n",
      " [ 8  8 10]\n",
      " [11 11 13]]\n"
     ],
     "output_type": "stream"
    }
   ],
   "source": [
    "# broadcasting\n",
    "x = np.array([[1, 2, 3],\n",
    "             [4, 5, 6],\n",
    "             [7, 8, 9],\n",
    "             [10, 11, 12]])\n",
    "y = np.array([1, 0, 1])\n",
    "\n",
    "# old method\n",
    "z = np.empty_like(x)\n",
    "for i in range(4):\n",
    "    z[i,:] = x[i,:] + y\n",
    "print(z)\n",
    "\n",
    "# old method (extended y)\n",
    "yy = np.tile(y, (4, 1))\n",
    "print(yy)\n",
    "z = x + yy\n",
    "print(z)\n",
    "\n",
    "# broadcasting\n",
    "z = x + y\n",
    "print(z)"
   ],
   "metadata": {
    "collapsed": false,
    "pycharm": {
     "name": "#%%\n",
     "is_executing": false
    }
   }
  },
  {
   "cell_type": "code",
   "execution_count": 50,
   "outputs": [
    {
     "name": "stdout",
     "text": [
      "[[-2.27683616  0.96045198  0.07909605]\n",
      " [ 1.04519774 -0.56497175  0.1299435 ]\n",
      " [ 0.39548023  0.05649718 -0.11299435]]\n",
      "[-4.83050847  2.13559322  1.18644068]\n"
     ],
     "output_type": "stream"
    }
   ],
   "source": [
    "# linear algebra\n",
    "from numpy.linalg import solve, inv\n",
    "\n",
    "a = np.array([[1, 2, 3],\n",
    "              [3, 4, 6.7],\n",
    "              [5, 9, 5]])\n",
    "b = np.array([3, 2, 1])\n",
    "\n",
    "print(inv(a))\n",
    "\n",
    "# solve ax = b for x\n",
    "# 1a + 2b + 3c = 3\n",
    "# 3a + 4b + 6.7c = 2\n",
    "# 5a + 9b + 5c = 1\n",
    "print(solve(a, b))"
   ],
   "metadata": {
    "collapsed": false,
    "pycharm": {
     "name": "#%%\n",
     "is_executing": false
    }
   }
  },
  {
   "cell_type": "code",
   "execution_count": 54,
   "outputs": [
    {
     "name": "stdout",
     "text": [
      "DatetimeIndex(['2020-03-31', '2020-04-01', '2020-04-02', '2020-04-03',\n",
      "               '2020-04-04', '2020-04-05'],\n",
      "              dtype='datetime64[ns]', freq='D')\n",
      "                   A         B         C         D\n",
      "2020-03-31  0.058953  0.314440 -0.078018  0.292271\n",
      "2020-04-01  0.034106  0.430532  2.059064  0.094579\n",
      "2020-04-02  0.189607 -1.794526  0.591321 -0.168398\n",
      "2020-04-03 -0.435300 -0.038009 -1.015574 -0.091727\n",
      "2020-04-04 -0.898792 -1.795151  0.844210 -0.328024\n",
      "2020-04-05  0.238424  0.081660 -0.573069  0.308714\n",
      "[[ 0.05895315  0.31443957 -0.07801819  0.29227148]\n",
      " [ 0.03410632  0.43053233  2.05906402  0.09457892]\n",
      " [ 0.18960725 -1.79452631  0.59132139 -0.16839774]\n",
      " [-0.4352998  -0.03800928 -1.01557408 -0.09172667]\n",
      " [-0.89879165 -1.79515092  0.84420984 -0.32802402]\n",
      " [ 0.23842433  0.0816603  -0.5730693   0.30871444]]\n"
     ],
     "output_type": "stream"
    }
   ],
   "source": [
    "# numpy and pandas\n",
    "import pandas as pd\n",
    "\n",
    "dates = pd.date_range('20200331', periods = 6)\n",
    "print(dates)\n",
    "\n",
    "df = pd.DataFrame(np.random.randn(6, 4), index = dates, columns = ['A', 'B', 'C', 'D'])\n",
    "print(df)\n",
    "n = df.to_numpy()\n",
    "print(n)"
   ],
   "metadata": {
    "collapsed": false,
    "pycharm": {
     "name": "#%%\n",
     "is_executing": false
    }
   }
  },
  {
   "cell_type": "code",
   "execution_count": 57,
   "outputs": [
    {
     "name": "stdout",
     "text": [
      "Nearest Point to Target is [9, 2, 8]\n",
      "Nearest Point to Target is [9, 2, 8]\n"
     ],
     "output_type": "stream"
    }
   ],
   "source": [
    "# nearest neighbor search\n",
    "\n",
    "# iterative\n",
    "points = [[9, 2, 8], [4, 7, 2], [3, 4, 4], [5, 6, 9], [5, 0, 7]]\n",
    "target = [8, 2, 8]\n",
    "\n",
    "minIdx = 0\n",
    "minDist = 1000000000\n",
    "\n",
    "for idx, point in enumerate(points):\n",
    "    innerSum = 0\n",
    "    for i in range(3):\n",
    "        innerSum += (point[i] - target[i]) ** 2\n",
    "    if innerSum < minDist:\n",
    "        minDist = innerSum\n",
    "        minIdx = idx\n",
    "\n",
    "print(\"Nearest Point to Target is\", points[minIdx])\n",
    "\n",
    "# numpy vectorization\n",
    "npPoints = np.array(points)\n",
    "npTarget = np.array(target)\n",
    "\n",
    "closest = np.argmin(np.linalg.norm(npPoints - npTarget, axis = 1))\n",
    "print(\"Nearest Point to Target is\", points[closest])"
   ],
   "metadata": {
    "collapsed": false,
    "pycharm": {
     "name": "#%%\n",
     "is_executing": false
    }
   }
  }
 ],
 "metadata": {
  "kernelspec": {
   "display_name": "Python 3",
   "language": "python",
   "name": "python3"
  },
  "language_info": {
   "codemirror_mode": {
    "name": "ipython",
    "version": 2
   },
   "file_extension": ".py",
   "mimetype": "text/x-python",
   "name": "python",
   "nbconvert_exporter": "python",
   "pygments_lexer": "ipython2",
   "version": "2.7.6"
  },
  "pycharm": {
   "stem_cell": {
    "cell_type": "raw",
    "source": [],
    "metadata": {
     "collapsed": false
    }
   }
  }
 },
 "nbformat": 4,
 "nbformat_minor": 0
}